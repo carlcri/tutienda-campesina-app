{
 "cells": [
  {
   "cell_type": "markdown",
   "id": "8fdc733c",
   "metadata": {},
   "source": [
    "# Desplegando APACHE como un Contenedor\n",
    "\n",
    "Lo realizado en el capitulo anterior soluciona el problema de que no se estaba cargando los estilos, pero configuar APACHE depende de la maquina en que se esta programando, y puede llegar a ser tediosa. \n",
    "\n",
    "Lo mas adecuado es tener toda la arquitectura, incluido el servidor APACHE en otro contenedor.\n",
    "\n",
    "## Primera Implementacion\n",
    "\n",
    "Crear un contenedor basado en APACHE para mostra el FRONTEND, y verificar se esta haciendo con los estilos adecuados:\n",
    "\n",
    "### Mostrar la pagina por defecto de apache\n",
    "\n",
    "```sh\n",
    "docker run -d --name my-apache-server --network platzinet -p 80:80 ubuntu/apache2:2.4.62\n",
    "```\n",
    "\n",
    "Efectivamente muestra la pagina por defecto de APACHE,igualmente como esta en la red platzinet, es posible usar `ping` para verificar la conectividad con los otros contenedores.\n",
    "\n",
    "```sh\n",
    "docker run -d --name my-apache-server --network platzinet -p 80:80 ubuntu/apache2\n",
    "```\n"
   ]
  },
  {
   "cell_type": "markdown",
   "id": "081dadd4",
   "metadata": {},
   "source": [
    "\n",
    "### Mostrar mi Propio Sitio \n",
    "\n",
    "Lo muestra con los estilos, pero todavia sin que se puedan hacer peticiones a al API. Se hace un *bind mount* al directorio `web-page`, y se verifica cambiando algunos estilos, en caliente.\n",
    "\n",
    "```sh\n",
    "docker run -d --name my-apache-server --network platzinet -p 80:80 -v `pwd`/web-page:/var/www/html ubuntu/apache2\n",
    "```\n",
    "\n"
   ]
  },
  {
   "cell_type": "markdown",
   "id": "5d5298a6",
   "metadata": {},
   "source": [
    "### Configuracion Avanzada de APACHE\n",
    "\n",
    "Se crea un nuevo directorio, llamado `apache-config` donce hay un archivo de configuracion de apache llamado `my-apache-proxy-conf`. Este archivo se debe cargar dentro del contenedor. Y ademas unas configuraciones adicionales.\n",
    "\n",
    "Asegurate de estar en la raiz del proyecto, y correr el siguiente comando para levantar el contenedor:\n",
    "\n",
    "```sh\n",
    "docker run -d --name my-apache-server --network platzinet -p 80:80 -v `pwd`/web-page:/var/www/html -v `pwd`/apache-config/my-apache-proxy.conf:/etc/apache2/sites-available/000-default.conf ubuntu/apache2 /bin/bash -c \"a2enmod proxy proxy_http && apache2ctl -D FOREGROUND\"\n",
    "\n",
    "```\n",
    "\n",
    "### Haciendo Peticiones desde el FRONTEND\n",
    "\n",
    "Con este comando, y con la BD y API funcionando, haz una consulta a la BD. Y debe funcionar. Hemos alcanzado un milestone muy importante. "
   ]
  }
 ],
 "metadata": {
  "language_info": {
   "name": "python"
  }
 },
 "nbformat": 4,
 "nbformat_minor": 5
}
