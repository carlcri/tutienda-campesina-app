{
 "cells": [
  {
   "cell_type": "markdown",
   "id": "ecad3f38",
   "metadata": {},
   "source": [
    "# Problemas en el FRONTEND\n",
    "\n",
    "La arquitectura construida hasta ahora son dos servicios, uno para la BD y otra la API, que se levantan con un `docker compose`, y un contenedor de **nginx** como proxy inverso que se levanta con `docker run`:\n",
    "\n",
    "```sh\n",
    "docker run --rm --name my-nginx-container -p 80:80 \\\n",
    "  --network platzinet \\\n",
    "  -v /home/carlos/Documents/tutienda-campesina-app/web-page:/usr/share/nginx/html:ro \\\n",
    "  my-nginx-proxy```"
   ]
  },
  {
   "cell_type": "markdown",
   "id": "2ff97644",
   "metadata": {},
   "source": [
    "Sin embargo se noto, y se desperdicio tiempo valioso, que no se estaban cargando los archivos estaticos. Un simple cambio de por ejemplo el color de un titulo, no los tomaba. Y por tanto todos los intentos por hacer un FRONTEND, medianamente basico FRACASARON. 💀 😠\n",
    "\n",
    "## Primera SOlucion  \n",
    "\n",
    "Despues de horas y horas, lo unico que se me ocurrio fue copiar directamente los estilos en `index.html`, y no creeras, funciono. Pero busque otra solucion. \n",
    "\n",
    "![image](https://imgur.com/aUKUkHF.png)"
   ]
  },
  {
   "cell_type": "markdown",
   "id": "c4ba5a82",
   "metadata": {},
   "source": [
    "## SOLUCION DEFINITIVA\n",
    "\n",
    "La solucion en mi maquina LINUX, fue usar otro PROXY INVERSO el clasico servidor `APACHE`, que tiene una configuracion especial, donde en el directorio `/etc/apache2/sites-available/`, guardaremos el archivo `tutienda-proxy.conf`, del cual hay una copia en este proyecto:\n",
    "\n",
    "`sudo  cat /etc/nginx/sites-available/tutienda-proxy.conf`\n",
    "\n",
    "### Comandos utiles de APACHE:\n",
    "\n",
    "- `sudo apache2ctl configtest`: Prueba la configuracion de Apache\n",
    "- `sudo systemctl restart apache2`: Reiniciar Apache.\n",
    "\n",
    "Y Mira que bonito hace una consulta:\n",
    "\n",
    "![image](https://imgur.com/mkap26M.png)\n",
    "\n",
    "Y si hay un error en la busqueda:\n",
    "\n",
    "![image](https://imgur.com/ulK8oco.png)\n"
   ]
  },
  {
   "cell_type": "markdown",
   "id": "de8b0e9f",
   "metadata": {},
   "source": [
    "Todo lo anterior, se desarrollo usando logica de JS desde el archivo `my-scrip.js`, usando clases y metodos de `JQUERY`, para encontrar elementos en el HTML, mostrarlos y ocultarlos segun sea el caso. Por ejemplo:\n",
    "\n",
    "```js\n",
    "        .then(function(client){\n",
    "            console.log(`cliente con id:${client.id} encontrado`);\n",
    "            $('#result-container').show(); 👈\n",
    "            $('.message').show();\n",
    "            $('#error-message').hide();\n",
    "//            $('#clientForm').hide();\n",
    "            $('#initial-message').hide();\n",
    "\n",
    "\n",
    "            $('#client-id-display').html(client.id); 👈\n",
    "            $('#client-name-display').html(client.name);\n",
    "            $('#client-lastname-display').html(client.lastName);\n",
    "            $('#client-dob-display').html(client.DOB);            \n",
    "\n",
    "        })\n",
    "```"
   ]
  }
 ],
 "metadata": {
  "language_info": {
   "name": "python"
  }
 },
 "nbformat": 4,
 "nbformat_minor": 5
}
