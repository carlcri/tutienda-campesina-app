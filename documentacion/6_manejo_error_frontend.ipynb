{
 "cells": [
  {
   "cell_type": "markdown",
   "id": "f719e480",
   "metadata": {},
   "source": [
    "# Mejorando El FrontEND\n",
    "\n",
    "Vamos hacer un bind mount del directorio web-page, para que cada vez que hagamos un cambio en el folder **web-page**, se vea reflejado:\n",
    "\n",
    "```sh\n",
    "docker run --rm --name my-nginx-container -p 80:80 \\\n",
    "  --network platzinet \\\n",
    "  -v /home/carlos/Documents/tutienda-campesina-app/web-page:/usr/share/nginx/html:ro \\\n",
    "  my-nginx-proxy```"
   ]
  },
  {
   "cell_type": "markdown",
   "id": "6e07e500",
   "metadata": {},
   "source": [
    "## Implementando un Formulario Basico.\n",
    "\n",
    "Con su respectivo archivo de estilos y boton de submit. En JS se implementa el siguiente codigo, usando Jquery y mostrando los resultados obtenidos en consola:\n",
    "\n",
    "```js\n",
    " $('#searchClientButton').click(function(e){ \n",
    "        e.preventDefault();\n",
    "        counter++;\n",
    "        console.log(counter);\n",
    "\n",
    "        let client_id = $('#clientId').val();\n",
    "        client_id = parseInt(client_id)\n",
    "        console.log(`client_id: ${client_id} and type: ${typeof(client_id)}`);\n",
    "\n",
    "        if(isNaN(client_id)){\n",
    "            console.log('Debe ingresar un numero valido');\n",
    "            return;\n",
    "        }\n",
    "\n",
    "        const api_URL = `http://localhost/api/client/${client_id}`;\n",
    "        fetch(api_URL)\n",
    "        .then(function(data){\n",
    "            return data.json();\n",
    "        })\n",
    "        .then(function(client){\n",
    "            console.log(client);\n",
    "            console.log(client.DOB);\n",
    "            console.log(client.address);\n",
    "            console.log(client.lastName);\n",
    "        })  \n",
    "    });\n",
    "```\n",
    "\n",
    "![image](https://imgur.com/tzGdvI5.png)"
   ]
  },
  {
   "cell_type": "markdown",
   "id": "830a74ef",
   "metadata": {},
   "source": [
    "## Mejorando \n",
    "\n",
    "La cuestion es que pasaria si hay por ejemplo un error en el servidor justo cuando se esta realizando una consulta, o que el usuario a buscar no exista en la BD. Sabemos que la API responde con _status code_.\n",
    "\n",
    "### Renamed Parameter in First `.then()`: \n",
    "\n",
    "I changed `function(data)` to `function(response)` in the first `.then()` block. This is a common convention and makes it clearer that *response* is the full HTTP response object, not just the data payload.\n",
    "\n",
    "When you make a network request using `fetch()`, like `fetch(api_URL)`, the first `.then()` block receives a `Response` object as its argument. This `Response` object is a representation of the entire HTTP response you get back from the server.\n",
    "\n",
    "The `Response` object contains properties and methods that allow you to inspect the response and extract the data:\n",
    "\n",
    "- `status`: The HTTP status code (e.g., `200` for OK, `404` for Not Found, 500 for Internal Server Error).\n",
    "- `ok`: A boolean (true/false) indicating if the response was successful (status code 200-299)."
   ]
  },
  {
   "cell_type": "markdown",
   "id": "737c1604",
   "metadata": {},
   "source": [
    "Si lo que responde el servidor mediante el objeto `Response` es `not ok`, por ejemplo que el usuario no existe en la BD, un `404` por ejemplo, debe haber la forma de manipular este error. \n",
    "\n",
    "![image](https://imgur.com/02CyVGZ.png)"
   ]
  },
  {
   "cell_type": "markdown",
   "id": "14d5095f",
   "metadata": {},
   "source": [
    "`return response.json().then(function(apiErrorResponse){ ... })`: If the response is not `ok`, the code proceeds to parse the response body as JSON\n",
    "\n",
    "- `response.json()`: This method reads the response stream to completion and parses it as JSON. It returns a Promise\n",
    "\n",
    "- `.then(function(apiErrorResponse){ ... })`: Once the JSON from the error response is successfully parsed, the callback function is executed, and the parsed JSON data is passed as `apiErrorResponse`\n",
    "\n",
    "- `let error = new Error(error_message);`: A new Error object is created, using the `error_message` as its primary message. This standard JavaScript error object helps in consistent error handling.\n",
    "\n",
    "- `error.status_code = response.status;` and `error.details = apiErrorResponse.detail.message;`: Custom properties (`status_code` and `details`) are added to the `error` object. This allows the `catch` block (further down in your original code) to access specific error information beyond just the generic error message, making debugging and user feedback more precise.\n",
    "\n",
    "- `throw error;`: This is a crucial part. Instead of just logging or returning, `throw error;` explicitly throws the newly created `error` object. When an error is thrown within a Promise's `then` block, it rejects that Promise. This rejection is then caught by the `.catch() `block that follows the fetch chain, allowing for centralized error handling."
   ]
  },
  {
   "cell_type": "markdown",
   "id": "cfb3da96",
   "metadata": {},
   "source": [
    "```py\n",
    "        .catch(function(error){\n",
    "            console.log('hola error catch...');  \n",
    "            console.log(error_message);\n",
    "            console.log(error.status_code, error.details);\n",
    "        }) \n",
    "```\n",
    "- This `.catch()` block is designed to handle any errors that occur during the fetch operation or in the preceding .then() blocks.\n",
    "\n",
    "- `console.log(error.status_code, error.details);`: This logs the custom properties (`status_code`and `details`) that were added to the `error` object when it was thrown"
   ]
  }
 ],
 "metadata": {
  "language_info": {
   "name": "python"
  }
 },
 "nbformat": 4,
 "nbformat_minor": 5
}
