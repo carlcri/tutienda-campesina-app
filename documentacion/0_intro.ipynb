{
 "cells": [
  {
   "cell_type": "markdown",
   "id": "9e1c26e3",
   "metadata": {},
   "source": [
    "\n",
    "\n",
    "# Primeros Pasos: Configuración del Entorno de Base de Datos con Docker y MongoDB Compass\n",
    "\n",
    "Para construir los cimientos de nuestra aplicación, hemos configurado un entorno de base de datos robusto utilizando `Docker` para la gestión de contenedores y `MongoDB Compass` como nuestra interfaz gráfica para interactuar con la base de datos.\n",
    "\n",
    "1. Despliegue de la Base de Datos MongoDB con Docker\n",
    "\n",
    "```sh\n",
    "docker run --name tuTiendaDB --detach --mount src=dbAppTienda,dst=/data/db --publish 27017:27017 mongo:latest\n",
    "```\n",
    "\n",
    "`--publish 27017:27017:` El primer 27017 se refiere al puerto de la máquina HOST, en mi caso mi WSL; El segundo 27017 se refiere al puerto interno del contenedor donde MongoDB está escuchando las conexiones. Sin este, no sera posible intercatur desde `MongoDB Compass`\n",
    "\n",
    "2. Acceso al Contenedor para Interacción Directa (Shell)\n",
    "\n",
    "```sh\n",
    "docker exec -it tuTiendaDB bash\n",
    "```\n",
    "\n",
    "Una vez dentro del SHELL del contenedor, usar el comando `mongosh`, que es la nueva interfaz de línea de comandos para MongoDB. \n",
    "\n",
    "3. Conexión a la Base de Datos con MongoDB Compass.\n",
    "\n",
    "`MongoDB Compass` es nuestra herramienta gráfica preferida para gestionar y visualizar los datos en MongoDB. Dada la exposición del puerto 27017, conectar Compass es sencillo. Por ahora. \n"
   ]
  }
 ],
 "metadata": {
  "kernelspec": {
   "display_name": "Python 3",
   "language": "python",
   "name": "python3"
  },
  "language_info": {
   "name": "python",
   "version": "3.10.12"
  }
 },
 "nbformat": 4,
 "nbformat_minor": 5
}
