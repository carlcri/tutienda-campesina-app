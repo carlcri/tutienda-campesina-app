{
 "cells": [
  {
   "cell_type": "markdown",
   "id": "f719e480",
   "metadata": {},
   "source": [
    "# Mejorando El FrontEND\n",
    "\n",
    "Vamos hacer un bind mount del directorio web-page, para que cada vez que hagamos un cambio en el folder **web-page**, se vea reflejado:\n",
    "\n",
    "```sh\n",
    "docker run --rm --name my-nginx-container -p 80:80 \\\n",
    "  --network platzinet \\\n",
    "  -v /home/carlos/Documents/tutienda-campesina-app/web-page:/usr/share/nginx/html:ro \\\n",
    "  my-nginx-proxy```"
   ]
  },
  {
   "cell_type": "markdown",
   "id": "6e07e500",
   "metadata": {},
   "source": [
    "## Implementando un Formulario Basico.\n",
    "\n",
    "Con su respectivo archivo de estilos y boton de submit. En JS se implementa el siguiente codigo, usando Jquery y mostrando los resultados obtenidos en consola:\n",
    "\n",
    "```js\n",
    " $('#searchClientButton').click(function(e){ \n",
    "        e.preventDefault();\n",
    "        counter++;\n",
    "        console.log(counter);\n",
    "\n",
    "        let client_id = $('#clientId').val();\n",
    "        client_id = parseInt(client_id)\n",
    "        console.log(`client_id: ${client_id} and type: ${typeof(client_id)}`);\n",
    "\n",
    "        if(isNaN(client_id)){\n",
    "            console.log('Debe ingresar un numero valido');\n",
    "            return;\n",
    "        }\n",
    "\n",
    "        const api_URL = `http://localhost/api/client/${client_id}`;\n",
    "        fetch(api_URL)\n",
    "        .then(function(data){\n",
    "            return data.json();\n",
    "        })\n",
    "        .then(function(client){\n",
    "            console.log(client);\n",
    "            console.log(client.DOB);\n",
    "            console.log(client.address);\n",
    "            console.log(client.lastName);\n",
    "        })  \n",
    "    });\n",
    "```\n",
    "\n",
    "![image](https://imgur.com/tzGdvI5.png)"
   ]
  },
  {
   "cell_type": "markdown",
   "id": "830a74ef",
   "metadata": {},
   "source": [
    "## Mejorando \n",
    "\n",
    "La cuestion es que pasaria si hay por ejemplo un error en el servidor justo cuando se esta realizando una consulta, o que el usuario a buscar no exista en la BD. Sabemos que la API responde con _status code_.\n",
    "\n",
    "### Renamed Parameter in First `.then()`: \n",
    "\n",
    "I changed `function(data)` to `function(response)` in the first `.then()` block. This is a common convention and makes it clearer that *response* is the full HTTP response object, not just the data payload.\n",
    "\n",
    "When you make a network request using `fetch()`, like `fetch(api_URL)`, the first `.then()` block receives a `Response` object as its argument. This `Response` object is a representation of the entire HTTP response you get back from the server.\n",
    "\n",
    "The `Response` object contains properties and methods that allow you to inspect the response and extract the data:\n",
    "\n",
    "- `status`: The HTTP status code (e.g., `200` for OK, `404` for Not Found, 500 for Internal Server Error).\n",
    "- `ok`: A boolean (true/false) indicating if the response was successful (status code 200-299).\n"
   ]
  },
  {
   "cell_type": "markdown",
   "id": "796d8874",
   "metadata": {},
   "source": [
    "errorData is simply the name of the variable that will hold the parsed JSON content from the server's error response body.\n",
    "\n",
    "return response.json().then(errorData => {\n",
    "\n",
    "// Include the status code and the error message from the API\n",
    "\n",
    "throw new Error(`HTTP Error ${response.status}: ${errorData.detail.message}`);\n",
    "\n",
    "});\n",
    "\n",
    "\n",
    "Here's what it does:\n",
    "\n",
    "Detects an API Error: When response.ok is false (meaning your API returned a 404, 500, etc.), you know that, from an application logic perspective, something went wrong, even if the fetch operation itself didn't encounter a network problem.\n",
    "\n",
    "Parses the API's Error Message: You use response.json() to read the helpful JSON body that your API sends with its error (e.g., \"cliente con id:100 no encontrado\").\n",
    "\n",
    "Creates a Custom, Informative Error: You then use new Error() to create a JavaScript Error object. Its message is crafted to include both the HTTP status code (e.g., 404) and the specific message from your API (apiErrorResponse.detail.message). This makes the error much more useful for debugging and for displaying to the user.\n",
    "\n",
    "Initiates Error Handling: By throwing this new Error, you immediately interrupt the normal Promise chain (the .then() blocks that would process successful client data). The execution flow is diverted directly to the nearest catch block.\n",
    "\n",
    "Essentially, throw new Error() in your code is your way of saying, \"Okay, the server responded, but it told me there's an error (like 'client not found'). This isn't a successful outcome for my application, so I'm going to treat this as an error and pass it along to my error-handling code.\""
   ]
  },
  {
   "cell_type": "markdown",
   "id": "53c5672f",
   "metadata": {},
   "source": [
    "div {\n",
    "    display: block;\n",
    "    unicode-bidi: isolate;\n",
    "}"
   ]
  }
 ],
 "metadata": {
  "language_info": {
   "name": "python"
  }
 },
 "nbformat": 4,
 "nbformat_minor": 5
}
