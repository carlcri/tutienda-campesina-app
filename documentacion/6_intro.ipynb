{
 "cells": [
  {
   "cell_type": "markdown",
   "id": "f719e480",
   "metadata": {},
   "source": [
    "# Mejorando El FrontEND\n",
    "\n",
    "Vamos hacer un bind mount del directorio web-page, para que cada vez que hagamos un cambio en el folder **web-page**, se vea reflejado:\n",
    "\n",
    "```sh\n",
    "docker run --rm --name my-nginx-container -p 80:80 \\\n",
    "  --network platzinet \\\n",
    "  -v /home/carlos/Documents/tutienda-campesina-app/web-page:/usr/share/nginx/html:ro \\\n",
    "  my-nginx-proxy```"
   ]
  },
  {
   "cell_type": "markdown",
   "id": "6e07e500",
   "metadata": {},
   "source": [
    "## Implementando un Formulario Basico.\n",
    "\n",
    "Con su respectivo archivo de estilos y boton de submit. En JS se implementa el siguiente codigo, usando Jquery y mostrando los resultados obtenidos en consola:\n",
    "\n",
    "```js\n",
    " $('#searchClientButton').click(function(e){ \n",
    "        e.preventDefault();\n",
    "        counter++;\n",
    "        console.log(counter);\n",
    "\n",
    "        let client_id = $('#clientId').val();\n",
    "        client_id = parseInt(client_id)\n",
    "        console.log(`client_id: ${client_id} and type: ${typeof(client_id)}`);\n",
    "\n",
    "        if(isNaN(client_id)){\n",
    "            console.log('Debe ingresar un numero valido');\n",
    "            return;\n",
    "        }\n",
    "\n",
    "        const api_URL = `http://localhost/api/client/${client_id}`;\n",
    "        fetch(api_URL)\n",
    "        .then(function(data){\n",
    "            return data.json();\n",
    "        })\n",
    "        .then(function(client){\n",
    "            console.log(client);\n",
    "            console.log(client.DOB);\n",
    "            console.log(client.address);\n",
    "            console.log(client.lastName);\n",
    "        })  \n",
    "    });\n",
    "```\n",
    "\n",
    "![image](https://imgur.com/tzGdvI5.png)"
   ]
  }
 ],
 "metadata": {
  "language_info": {
   "name": "python"
  }
 },
 "nbformat": 4,
 "nbformat_minor": 5
}
