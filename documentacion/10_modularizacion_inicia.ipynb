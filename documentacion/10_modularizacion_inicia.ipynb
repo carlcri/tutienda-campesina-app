{
 "cells": [
  {
   "cell_type": "markdown",
   "id": "23bacbfe",
   "metadata": {},
   "source": [
    "# Modularización y Configuración Inicial de Proyecto FastAPI\n",
    "\n",
    "Vamos a modularizar el codigo de mi API, para que sea mas profesional. Y lo camos hacer paso a paso. En las siguientes secciones, lo iremos modularizando aun mas.\n",
    "\n",
    "![image](https://imgur.com/uPOtI3o.png)"
   ]
  },
  {
   "cell_type": "markdown",
   "id": "96170da9",
   "metadata": {},
   "source": [
    "## Paso 1\n",
    "\n",
    "Crear la estructura de subdirectorios tal y como se muestra en la figura\n",
    "\n",
    "## PASO 2 -- Crear archivos __init__.py:\n",
    "\n",
    "Para que Python reconozca estos directorios como paquetes, se necesita crear un archivo vacío llamado `__init__`.py dentro de cada uno de ellos.\n",
    "\n",
    "Cuando Python se encuentra con un directorio que contiene un archivo `__init__.py`, lo reconoce inmediatamente como un paquete y no como un directorio común. Dicho archivo puede estar vacio o no.\n",
    "\n",
    "Ahora que tenemos la estructura, ¡empecemos con la modularización!"
   ]
  },
  {
   "cell_type": "markdown",
   "id": "fe729e89",
   "metadata": {},
   "source": [
    "## Modularizacion\n",
    "\n",
    "### Paso 1 -- Centralizar la Configuracion\n",
    "\n",
    "Desde el archivo `config.py` se leeran el contenido del archivo `.env`, asegurate de crearlo en la raiz del proyecto(mi api).\n",
    "\n",
    "```py\n",
    "import os\n",
    "from dotenv import load_dotenv\n",
    "\n",
    "# Carga las variables de entorno desde el archivo .env\n",
    "load_dotenv()\n",
    "\n",
    "class Settings:\n",
    "    \"\"\"\n",
    "    Clase para manejar las configuraciones de la aplicación\n",
    "    \"\"\"\n",
    "    def conection_string(self) -> str: \n",
    "        mongo_details = os.environ[\"MONGO_DETAILS\"]\n",
    "        return mongo_details\n",
    "    \n",
    "\n",
    "# Instancia de Settings para ser importada y usada en toda la aplicación\n",
    "settings = Settings()\n",
    "```\n",
    "Y se hacen las respectivas modificaciones en el `main.py`:\n",
    "\n",
    "```py\n",
    "# Importar la instancia de settings desde app.core.config\n",
    "from core.config import settings\n",
    "\n",
    "# --- Configuración de MongoDB ---\n",
    "MONGO_DETAILS = settings.conection_string()\n",
    "```\n",
    "Probamos, levantando los tres servicios con `docker compose`, si es necesario volvemos a buildiar. Y funciona."
   ]
  },
  {
   "cell_type": "markdown",
   "id": "7e1f04be",
   "metadata": {},
   "source": [
    "### Paso 2: Mover la Lógica de Conexión a la Base de Datos a `app/core/database.py`\n",
    "\n",
    "Ahora vamos a encapsular la lógica de conexión y desconexión de MongoDB en un módulo dedicado. Se crear el archivo `app/core/database.py`.\n",
    "\n",
    "Abre el archivo, y si no entiendes algo, ve el ejemplo sencillo que hay acontinuacion(Espero que estos ejemplos te ayuden a comprender mejor las anotaciones de tipo y por qué esa línea específica es la solución correcta para tu problema con `Pylance`. ¡Es una herramienta muy útil una vez que te acostumbras a ella!)"
   ]
  },
  {
   "cell_type": "code",
   "execution_count": 4,
   "id": "49e4c22d",
   "metadata": {},
   "outputs": [
    {
     "name": "stdout",
     "output_type": "stream",
     "text": [
      "Diccionario de edades: {'Alice': 30, 'Bob': 24, 'Charlie': 35}\n",
      "Edad de Alice: 30\n",
      "Diccionario actualizado: {'Alice': 30, 'Bob': 24, 'Charlie': 35, 'David': 40}\n"
     ]
    }
   ],
   "source": [
    "from typing import Dict\n",
    "\n",
    "# Anotamos que 'edades' es un diccionario donde las claves son strings (nombres)\n",
    "# y los valores son enteros (edades).\n",
    "edades: Dict[str, int] = {\n",
    "    \"Alice\": 30,\n",
    "    \"Bob\": 24,\n",
    "    \"Charlie\": 35\n",
    "}\n",
    "\n",
    "print(f\"Diccionario de edades: {edades}\")\n",
    "print(f\"Edad de Alice: {edades['Alice']}\")\n",
    "\n",
    "# Esto funcionaría sin problemas porque 40 es un int\n",
    "edades[\"David\"] = 40\n",
    "print(f\"Diccionario actualizado: {edades}\")\n",
    "\n",
    "# Esto causaría una advertencia de Pylance/MyPy porque \"veinte\" no es un int\n",
    "edades[\"Eve\"] = \"veinte\"\n",
    "# print(f\"Diccionario con error de tipo (comentado): {edades}\")\n",
    "\n",
    "# Esto causaría una advertencia de Pylance/MyPy porque 123 no es un str para la clave\n",
    "# edades[123] = 50\n",
    "# print(f\"Diccionario con error de tipo en clave (comentado): {edades}\")\n"
   ]
  },
  {
   "cell_type": "markdown",
   "id": "87109f95",
   "metadata": {},
   "source": [
    "como `db_client` es ahora un diccionario, las funciones de conexion y desconexion, deben modificarse."
   ]
  },
  {
   "cell_type": "code",
   "execution_count": null,
   "id": "9f4b6e88",
   "metadata": {},
   "outputs": [],
   "source": [
    "# database.py\n",
    "\n",
    "from motor.motor_asyncio import AsyncIOMotorClient\n",
    "from fastapi import HTTPException\n",
    "from typing import Optional, Dict\n",
    "from core.config import settings\n",
    "\n",
    "\n",
    "# Guarda la conexión global a MongoDB\n",
    "db_client: Dict[str, Optional[AsyncIOMotorClient]] = {\n",
    "    \"client\": None,\n",
    "}\n",
    "\n",
    "async def connect_to_mongo():\n",
    "#    global db_client\n",
    "    try:\n",
    "        db_client['client'] = AsyncIOMotorClient(settings.conection_string())\n",
    "        print(f'Conexion Exitosaa a la BD: {settings.conection_string()}')\n",
    "    except Exception as e:\n",
    "        raise HTTPException(status_code=500, detail={\"message\":\"Error de Servidor BD no Disponib\"})\n",
    "\n",
    "\n",
    "\n",
    "async def close_mongo_connection():\n",
    "    print('hola hijuemadre')\n",
    "    if db_client['client']:\n",
    "        db_client['client'].close()\n",
    "        print('Se ha cerrado la conexion')\n",
    "    else:\n",
    "        print('La conexión a MongoDB no se estableció, no hay nada que cerrar.')   "
   ]
  },
  {
   "cell_type": "markdown",
   "id": "9cd60cb5",
   "metadata": {},
   "source": [
    "de `main.py` modificamos las funciones de `startup` y `shutdown`\n",
    "\n",
    "```py\n",
    "from fastapi import FastAPI, HTTPException, Path\n",
    "from fastapi.responses import HTMLResponse, JSONResponse\n",
    "\n",
    "from datos import STUDENTS as students\n",
    "\n",
    "# Importar la instancia de settings desde app.core.config\n",
    "from core.config import settings\n",
    "\n",
    "# Importar las funciones de conexión/desconexión de la base de datos\n",
    "# Importamos 'db' para acceder al cliente\n",
    "from core.database import connect_to_mongo, close_mongo_connection, db_client\n",
    "\n",
    "# --- Configuración de MongoDB ---\n",
    "MONGO_DETAILS = settings.conection_string()\n",
    "\n",
    "\n",
    "# Create a FastAPI application instance\n",
    "app = FastAPI()\n",
    "app.title = \"API Prototipo Plataforma de Comercializacion\"\n",
    "app.version = \"0.0.3\"\n",
    "\n",
    "\n",
    "@app.on_event(\"startup\")\n",
    "async def startup_db_client():\n",
    "    await connect_to_mongo()\n",
    "    \n",
    "\n",
    "@app.on_event(\"shutdown\")\n",
    "async def shutdown_db_client():\n",
    "    await close_mongo_connection()\n",
    "```"
   ]
  }
 ],
 "metadata": {
  "kernelspec": {
   "display_name": "env (3.10.12)",
   "language": "python",
   "name": "python3"
  },
  "language_info": {
   "codemirror_mode": {
    "name": "ipython",
    "version": 3
   },
   "file_extension": ".py",
   "mimetype": "text/x-python",
   "name": "python",
   "nbconvert_exporter": "python",
   "pygments_lexer": "ipython3",
   "version": "3.10.12"
  }
 },
 "nbformat": 4,
 "nbformat_minor": 5
}
